{
  "nbformat": 4,
  "nbformat_minor": 0,
  "metadata": {
    "colab": {
      "provenance": []
    },
    "kernelspec": {
      "name": "python3",
      "display_name": "Python 3"
    },
    "language_info": {
      "name": "python"
    }
  },
  "cells": [
    {
      "cell_type": "code",
      "execution_count": 1,
      "metadata": {
        "colab": {
          "base_uri": "https://localhost:8080/"
        },
        "id": "m1HgP3FB6_8r",
        "outputId": "b0552a22-d0d9-4f4b-f886-38899551b69d"
      },
      "outputs": [
        {
          "output_type": "stream",
          "name": "stdout",
          "text": [
            "Welcome to the EV Charging Station Finder\n",
            "Enter the location you're interested in: a\n",
            "Enter the minimum number of slots you need: 2\n",
            "No stations available in a with at least 2 slots.\n",
            "\n",
            "Remaining stations after booking:\n",
            "ID: 1, Name: Station A, Slots Available: 5\n",
            "ID: 2, Name: Station B, Slots Available: 3\n",
            "ID: 3, Name: Station C, Slots Available: 2\n",
            "ID: 4, Name: Station D, Slots Available: 4\n"
          ]
        }
      ],
      "source": [
        "\n",
        "import datetime\n",
        "\n",
        "charging_stations = [\n",
        "    {\"id\": 1, \"name\": \"Station A\", \"location\": \"City Center\", \"slots\": 5},\n",
        "    {\"id\": 2, \"name\": \"Station B\", \"location\": \"East Side\", \"slots\": 3},\n",
        "    {\"id\": 3, \"name\": \"Station C\", \"location\": \"West End\", \"slots\": 2},\n",
        "    {\"id\": 4, \"name\": \"Station D\", \"location\": \"North Park\", \"slots\": 4},\n",
        "]\n",
        "\n",
        "\n",
        "def find_stations(location=None, min_slots=1):\n",
        "    available_stations = []\n",
        "    for station in charging_stations:\n",
        "        if station[\"slots\"] >= min_slots and (\n",
        "            location is None or station[\"location\"] == location\n",
        "        ):\n",
        "            available_stations.append(station)\n",
        "    return available_stations\n",
        "\n",
        "\n",
        "def book_slot(station_id):\n",
        "    for station in charging_stations:\n",
        "        if station[\"id\"] == station_id:\n",
        "            if station[\"slots\"] > 0:\n",
        "                station[\"slots\"] -= 1\n",
        "                print(\n",
        "                    f\"Slot booked at {station['name']}. Remaining slots: {station['slots']}\"\n",
        "                )\n",
        "            else:\n",
        "                print(\"No available slots at this station.\")\n",
        "            return\n",
        "    print(\"Station not found.\")\n",
        "\n",
        "\n",
        "print(\"Welcome to the EV Charging Station Finder\")\n",
        "\n",
        "user_location = input(\"Enter the location you're interested in: \")\n",
        "min_slots = int(input(\"Enter the minimum number of slots you need: \"))\n",
        "\n",
        "stations = find_stations(location=user_location, min_slots=min_slots)\n",
        "if not stations:\n",
        "    print(f\"No stations available in {user_location} with at least {min_slots} slots.\")\n",
        "else:\n",
        "    print(f\"\\nAvailable stations in {user_location} with at least {min_slots} slots:\")\n",
        "    for station in stations:\n",
        "        print(\n",
        "            f\"ID: {station['id']}, Name: {station['name']}, Slots Available: {station['slots']}\"\n",
        "        )\n",
        "\n",
        "    station_id = int(\n",
        "        input(\"\\nEnter the ID of the station you want to book a slot at: \")\n",
        "    )\n",
        "    book_slot(station_id=station_id)\n",
        "\n",
        "print(\"\\nRemaining stations after booking:\")\n",
        "for station in charging_stations:\n",
        "    print(\n",
        "        f\"ID: {station['id']}, Name: {station['name']}, Slots Available: {station['slots']}\"\n",
        "    )"
      ]
    }
  ]
}