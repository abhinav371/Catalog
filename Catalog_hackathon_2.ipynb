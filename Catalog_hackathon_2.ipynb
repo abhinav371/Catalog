{
  "nbformat": 4,
  "nbformat_minor": 0,
  "metadata": {
    "colab": {
      "provenance": []
    },
    "kernelspec": {
      "name": "python3",
      "display_name": "Python 3"
    },
    "language_info": {
      "name": "python"
    }
  },
  "cells": [
    {
      "cell_type": "code",
      "execution_count": 3,
      "metadata": {
        "colab": {
          "base_uri": "https://localhost:8080/"
        },
        "id": "KlmWYMBweFsX",
        "outputId": "373af254-3304-431c-d844-62d1df0d3f85"
      },
      "outputs": [
        {
          "output_type": "stream",
          "name": "stdout",
          "text": [
            "Welcome to the States and Capitals Quiz!\n",
            "Identify the capital for the following states:\n",
            "\n",
            "What is the capital of Nagaland? kohima\n",
            "Correct!\n",
            "What is the capital of Andhra Pradesh? amravati\n",
            "Incorrect! The capital of Andhra Pradesh is Amaravati.\n",
            "\n",
            "What is the capital of Meghalaya? shillong\n",
            "Correct!\n",
            "What is the capital of Assam? dispur\n",
            "Correct!\n",
            "What is the capital of Punjab? chandigarh\n",
            "Correct!\n",
            "\n",
            "Quiz Over! You scored 4 out of 5.\n"
          ]
        }
      ],
      "source": [
        "\n",
        "import random\n",
        "\n",
        "# Dictionary containing states and their capitals\n",
        "states_and_capitals = {\n",
        "    \"Andhra Pradesh\": \"Amaravati\",\n",
        "    \"Arunachal Pradesh\": \"Itanagar\",\n",
        "    \"Assam\": \"Dispur\",\n",
        "    \"Bihar\": \"Patna\",\n",
        "    \"Chhattisgarh\": \"Raipur\",\n",
        "    \"Goa\": \"Panaji\",\n",
        "    \"Gujarat\": \"Gandhinagar\",\n",
        "    \"Haryana\": \"Chandigarh\",\n",
        "    \"Himachal Pradesh\": \"Shimla\",\n",
        "    \"Jharkhand\": \"Ranchi\",\n",
        "    \"Karnataka\": \"Bengaluru\",\n",
        "    \"Kerala\": \"Thiruvananthapuram\",\n",
        "    \"Madhya Pradesh\": \"Bhopal\",\n",
        "    \"Maharashtra\": \"Mumbai\",\n",
        "    \"Manipur\": \"Imphal\",\n",
        "    \"Meghalaya\": \"Shillong\",\n",
        "    \"Mizoram\": \"Aizawl\",\n",
        "    \"Nagaland\": \"Kohima\",\n",
        "    \"Odisha\": \"Bhubaneswar\",\n",
        "    \"Punjab\": \"Chandigarh\",\n",
        "    \"Rajasthan\": \"Jaipur\",\n",
        "    \"Sikkim\": \"Gangtok\",\n",
        "    \"Tamil Nadu\": \"Chennai\",\n",
        "    \"Telangana\": \"Hyderabad\",\n",
        "    \"Tripura\": \"Agartala\",\n",
        "    \"Uttar Pradesh\": \"Lucknow\",\n",
        "    \"Uttarakhand\": \"Dehradun\",\n",
        "    \"West Bengal\": \"Kolkata\",\n",
        "}\n",
        "\n",
        "def quiz():\n",
        "    score = 0\n",
        "    total_questions = 5\n",
        "\n",
        "    # Pick random states for the quiz\n",
        "    states = random.sample(list(states_and_capitals.keys()), total_questions)\n",
        "\n",
        "    print(\"Welcome to the States and Capitals Quiz!\")\n",
        "    print(\"Identify the capital for the following states:\\n\")\n",
        "\n",
        "    for state in states:\n",
        "        capital = input(f\"What is the capital of {state}? \").strip()\n",
        "\n",
        "        if capital.lower() == states_and_capitals[state].lower():\n",
        "            print(\"Correct!\")\n",
        "            score += 1\n",
        "        else:\n",
        "            print(f\"Incorrect! The capital of {state} is {states_and_capitals[state]}.\\n\")\n",
        "\n",
        "    print(f\"\\nQuiz Over! You scored {score} out of {total_questions}.\")\n",
        "\n",
        "if __name__ == \"__main__\":\n",
        "    quiz()"
      ]
    }
  ]
}